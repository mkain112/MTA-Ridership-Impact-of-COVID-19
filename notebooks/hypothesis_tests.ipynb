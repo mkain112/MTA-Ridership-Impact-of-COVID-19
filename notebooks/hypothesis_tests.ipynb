{
 "cells": [
  {
   "cell_type": "code",
   "execution_count": 1,
   "metadata": {},
   "outputs": [],
   "source": [
    "%matplotlib inline\n",
    "%reload_ext autoreload\n",
    "%autoreload 2\n",
    "\n",
    "import pandas as pd\n",
    "import numpy as np\n",
    "import matplotlib.pyplot as plt\n",
    "import pyspark as ps\n",
    "import scipy.stats as stats\n",
    "import sys\n",
    "sys.path.append(\"..\")\n",
    "from src.support_functions import get_covid_data, fixing_datetime, get_zip_income\n",
    "\n",
    "plt.style.use('ggplot')\n"
   ]
  },
  {
   "cell_type": "code",
   "execution_count": 2,
   "metadata": {},
   "outputs": [],
   "source": [
    "data_by_zip, tests_by_day, tests_by_boro = get_covid_data()"
   ]
  },
  {
   "cell_type": "code",
   "execution_count": 3,
   "metadata": {},
   "outputs": [],
   "source": [
    "data_by_zip = data_by_zip.rename(columns={\"MODIFIED_ZCTA\": \"Zip\",\n",
    "                            \"NEIGHBORHOOD_NAME\": \"Neighborhood\",\n",
    "                            \"BOROUGH_GROUP\": \"Borough\",\n",
    "                            \"COVID_CASE_COUNT\": \"Covid_Case_Count\",\n",
    "                            \"COVID_CASE_RATE\": \"Covid_Case_Rate\",\n",
    "                            \"POP_DENOMINATOR\": \"Pop_Denominator\",\n",
    "                            \"COVID_DEATH_COUNT\": \"Covid_Death_Count\",\n",
    "                            \"COVID_DEATH_RATE\":\"Covid_Death_Rate\",\n",
    "                            \"PERCENT_POSITIVE\":\"Percent_Positive\",\n",
    "                            \"TOTAL_COVID_TESTS\": \"Total_Covid_Tests\"})"
   ]
  },
  {
   "cell_type": "code",
   "execution_count": 4,
   "metadata": {},
   "outputs": [],
   "source": [
    "tests_by_day = tests_by_day.rename(columns={\"DATE\": \"Date\",\n",
    "                             \"TOTAL_TESTS\": \"Total_Tests\",\n",
    "                             \"POSITIVE_TESTS\": \"Positive_Tests\",\n",
    "                             \"PERCENT_POSITIVE\": \"Percent_Positive\",\n",
    "                             \"TOTAL_TESTS_7DAYS_AVG\": \"Total_Tests_7Days_AVG\",\n",
    "                             \"POSITIVE_TESTS_7DAYS_AVG\": \"Positive_Tests_7Days_AVG\",\n",
    "                             \"PERCENT_POSITIVE_7DAYS_AVG\": \"Percent_Positive_7Days_AVG\",\n",
    "                             \"INCOMPLETE\": \"Incomplete\"})"
   ]
  },
  {
   "cell_type": "code",
   "execution_count": 5,
   "metadata": {},
   "outputs": [],
   "source": [
    "tests_by_boro = tests_by_boro.rename(columns={\"BOROUGH_GROUP\": \"Borough\",\n",
    "                             \"CASE_RATE\": \"Case_Rate\",\n",
    "                             \"HOSPITALIZED_RATE\": \"Hospitalized_Rate\",\n",
    "                             \"DEATH_RATE\": \"Death_Rate\",\n",
    "                             \"CASE_COUNT\": \"Case_Count\",\n",
    "                             \"HOSPITALIZED_COUNT\": \"Hospitalized_Count\",\n",
    "                             \"DEATH_COUNT\": \"Death_Count\"})"
   ]
  },
  {
   "cell_type": "code",
   "execution_count": 6,
   "metadata": {},
   "outputs": [],
   "source": [
    "median_income = get_zip_income()\n",
    "med_income = median_income['median_income']\n",
    "data_by_zip = data_by_zip.join(med_income)"
   ]
  },
  {
   "cell_type": "code",
   "execution_count": 7,
   "metadata": {},
   "outputs": [],
   "source": [
    "tests_by_day = fixing_datetime(tests_by_day)"
   ]
  },
  {
   "cell_type": "code",
   "execution_count": 8,
   "metadata": {},
   "outputs": [],
   "source": [
    "turnstile2019_df = pd.read_csv('../data/Turnstile_Usage_Data__2019.csv', low_memory=False)\n",
    "turnstile2020_df = pd.read_csv('../data/Turnstile_Usage_Data__2020.csv', low_memory=False)"
   ]
  },
  {
   "cell_type": "code",
   "execution_count": 9,
   "metadata": {},
   "outputs": [],
   "source": [
    "ts_df_2019 = fixing_datetime(turnstile2019_df)\n",
    "ts_df_2020 = fixing_datetime(turnstile2020_df)"
   ]
  },
  {
   "cell_type": "code",
   "execution_count": 10,
   "metadata": {},
   "outputs": [],
   "source": [
    "gb2019 = ts_df_2019[['Unit', 'SCP', 'Date', 'Entries']].groupby(['Date', 'Unit', 'SCP']).agg([min, max])\n",
    "gb2019.reset_index()\n",
    "\n",
    "gb2019['Total'] = gb2019[('Entries', 'max')] - gb2019[('Entries', 'min')]\n",
    "gb2019.drop(gb2019[gb2019['Total'] < 1000].index, inplace=True)\n",
    "gb2019.drop(gb2019[gb2019['Total'] > 10000].index, inplace=True)\n",
    "\n",
    "sum_per_station_2019 = gb2019.groupby(level=[0, 1]).sum()\n",
    "\n",
    "sum_per_date_2019 = sum_per_station_2019.groupby(level=[0]).sum()\n",
    "\n",
    "sum_per_date_2019['week_avg_2019'] = sum_per_date_2019.iloc[:,2].rolling(window=7).mean()"
   ]
  },
  {
   "cell_type": "code",
   "execution_count": 11,
   "metadata": {},
   "outputs": [],
   "source": [
    "gb2020 = ts_df_2020[['Unit', 'SCP', 'Date', 'Entries']].groupby(['Date', 'Unit', 'SCP']).agg([min, max])\n",
    "gb2020.reset_index()\n",
    "\n",
    "gb2020['Total'] = gb2020[('Entries', 'max')] - gb2020[('Entries', 'min')]\n",
    "gb2020.drop(gb2020[gb2020['Total'] < 1000].index, inplace=True)\n",
    "gb2020.drop(gb2020[gb2020['Total'] > 10000].index, inplace=True)\n",
    "\n",
    "sum_per_station_2020 = gb2020.groupby(level=[0, 1]).sum()\n",
    "\n",
    "sum_per_date_2020 = sum_per_station_2020.groupby(level=[0]).sum()\n",
    "\n",
    "sum_per_date_2020['week_avg_2020'] = sum_per_date_2020.iloc[:,2].rolling(window=7).mean()"
   ]
  },
  {
   "cell_type": "markdown",
   "metadata": {},
   "source": [
    "## Hypothesis Test on MTA Usage between 2019 and 2020"
   ]
  },
  {
   "cell_type": "markdown",
   "metadata": {},
   "source": [
    "H0: There was no difference in MTA Turnstile usage between March 01, 2019 thru September 30, 2019 and March 01, 2020 thru September 30, 2020.\n",
    "\n",
    "HA: There was a difference in MTA Turnstile usage between March 01, 2019 thru September 30, 2019 and March 01, 2020 thru September 30, 2020.\n",
    "\n",
    "Alpha: 0.05"
   ]
  },
  {
   "cell_type": "code",
   "execution_count": 12,
   "metadata": {},
   "outputs": [
    {
     "data": {
      "text/plain": [
       "Ttest_indResult(statistic=53.20656382203368, pvalue=8.146563428977898e-125)"
      ]
     },
     "execution_count": 12,
     "metadata": {},
     "output_type": "execute_result"
    }
   ],
   "source": [
    "stats.ttest_ind(sum_per_date_2019['week_avg_2019'].dropna(), sum_per_date_2020['week_avg_2020'].dropna(), equal_var=False )"
   ]
  },
  {
   "cell_type": "markdown",
   "metadata": {},
   "source": [
    "***Conclusion***: Since the p-value is lower than our alpha, we reject the Null Hypothesis \n",
    "and can say there is effecient statistical evidence that there was a difference in MTA Turnstile usage between March 01, 2019 thru September 30, 2019 and March 01, 2020 thru September 30, 2020."
   ]
  },
  {
   "cell_type": "code",
   "execution_count": null,
   "metadata": {},
   "outputs": [],
   "source": []
  }
 ],
 "metadata": {
  "kernelspec": {
   "display_name": "thomasjoy",
   "language": "python",
   "name": "thomasjoy"
  },
  "language_info": {
   "codemirror_mode": {
    "name": "ipython",
    "version": 3
   },
   "file_extension": ".py",
   "mimetype": "text/x-python",
   "name": "python",
   "nbconvert_exporter": "python",
   "pygments_lexer": "ipython3",
   "version": "3.7.7"
  }
 },
 "nbformat": 4,
 "nbformat_minor": 4
}
